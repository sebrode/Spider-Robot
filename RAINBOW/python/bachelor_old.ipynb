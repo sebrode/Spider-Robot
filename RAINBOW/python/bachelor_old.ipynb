{
 "cells": [
  {
   "cell_type": "code",
   "execution_count": 1,
   "metadata": {
    "tags": []
   },
   "outputs": [],
   "source": [
    "import numpy as np\n",
    "import rainbow.math.vector3 as V3\n",
    "import rainbow.math.quaternion as Q\n",
    "import rainbow.simulators.prox_rigid_bodies.api as API\n",
    "import rainbow.simulators.prox_rigid_bodies.procedural as PROC\n",
    "import rainbow.util.viewer as VIEWER\n",
    "import time\n",
    "from rainbow.geometry.surface_mesh import create_sphere, create_box\n"
   ]
  },
  {
   "cell_type": "code",
   "execution_count": 2,
   "metadata": {
    "tags": []
   },
   "outputs": [],
   "source": [
    "engine = API.Engine()\n",
    "\n",
    "API.create_rigid_body(engine,'connector_body')\n",
    "API.create_rigid_body(engine,'connector_body2')\n",
    "API.create_rigid_body(engine,'connector_body3')\n",
    "\n",
    "V11, T11 = create_box(83., 4., 10.)\n",
    "V12, T12 = create_box(83., 4., 10.)\n",
    "V13, T13 = create_box(10., 34.466, 6.)\n",
    "\n",
    "mesh11 = API.create_mesh(V11, T11)\n",
    "mesh12 = API.create_mesh(V12, T12)\n",
    "mesh13 = API.create_mesh(V13, T13)\n",
    "\n",
    "API.create_shape(engine, 'connector_shape', mesh11)\n",
    "API.create_shape(engine, 'connector_shape2', mesh12)\n",
    "API.create_shape(engine, 'connector_shape3', mesh13)\n",
    "\n",
    "API.connect_shape(engine, 'connector_body', 'connector_shape')\n",
    "API.connect_shape(engine, 'connector_body2', 'connector_shape3')\n",
    "API.connect_shape(engine, 'connector_body3', 'connector_shape2')\n",
    "\n",
    "API.set_position(engine, 'connector_body2', V3.make(19.233, 0.0,0.0) , use_model_frame=True)\n",
    "API.set_position(engine, 'connector_body3', V3.make(38.466, 0.0,0.0), use_model_frame=True)\n",
    "API.set_orientation(engine, 'connector_body2', Q.Rz(-0.5*np.pi), use_model_frame=True)\n",
    "\n",
    "\n",
    "test_material = \"material\"\n",
    "API.create_surfaces_interaction(engine, test_material, test_material, 1, np.arctan(V3.make((0.09*np.pi), np.inf, np.inf)))\n",
    "\n",
    "API.set_body_material(engine, 'connector_body', test_material)\n",
    "API.set_body_material(engine, 'connector_body2', test_material)\n",
    "API.set_body_material(engine, 'connector_body3', test_material)"
   ]
  },
  {
   "cell_type": "code",
   "execution_count": 3,
   "metadata": {
    "tags": []
   },
   "outputs": [],
   "source": [
    "API.create_rigid_body(engine,'foot_body')\n",
    "API.create_rigid_body(engine,'foot_body2')\n",
    "API.create_rigid_body(engine,'foot_body3')\n",
    "API.create_rigid_body(engine,'foot_body4')\n",
    "\n",
    "V21, T21 = create_box(36.025, 16.5, 30.)\n",
    "V22, T22 = create_box(44.123, 16.5, 4.5)\n",
    "V23, T23 = create_box(44.123, 16.5, 4.5)\n",
    "V24, T24 = create_box(16.5, 10., 5.5)\n",
    "\n",
    "mesh21 = API.create_mesh(V21, T21)\n",
    "mesh22 = API.create_mesh(V22, T22)\n",
    "mesh23 = API.create_mesh(V23, T23)\n",
    "mesh24 = API.create_mesh(V24, T24)\n",
    "\n",
    "API.create_shape(engine, 'foot_shape', mesh21)\n",
    "API.create_shape(engine, 'foot_shape2', mesh22)\n",
    "API.create_shape(engine, 'foot_shape3', mesh23)\n",
    "API.create_shape(engine, 'foot_shape4', mesh24)\n",
    "\n",
    "API.connect_shape(engine, 'foot_body', 'foot_shape')\n",
    "API.connect_shape(engine, 'foot_body2', 'foot_shape2')\n",
    "API.connect_shape(engine, 'foot_body3', 'foot_shape3')\n",
    "API.connect_shape(engine, 'foot_body4', 'foot_shape4')\n",
    "\n",
    "API.set_position(engine, 'foot_body', V3.make(17, 0.0,34.0) , use_model_frame=True)\n",
    "API.set_orientation(engine, 'foot_body', Q.Ry(-0.5*np.pi), use_model_frame=True)\n",
    "API.set_position(engine, 'foot_body2', V3.make(9, 0.0, 72) , use_model_frame=True)\n",
    "API.set_orientation(engine, 'foot_body2', Q.Ry(-0.43*np.pi), use_model_frame=True)\n",
    "API.set_position(engine, 'foot_body3', V3.make(25, 0.0, 72) , use_model_frame=True)\n",
    "API.set_orientation(engine, 'foot_body3', Q.Ry(0.43*np.pi), use_model_frame=True)\n",
    "API.set_position(engine, 'foot_body4', V3.make(17, 0.0, 92) , use_model_frame=True)\n",
    "API.set_orientation(engine, 'foot_body4', Q.Rz(0.5*np.pi), use_model_frame=True)"
   ]
  },
  {
   "cell_type": "code",
   "execution_count": 4,
   "metadata": {
    "tags": []
   },
   "outputs": [],
   "source": [
    "API.create_rigid_body(engine,'top_body')\n",
    "API.create_rigid_body(engine,'top_body2')\n",
    "API.create_rigid_body(engine,'top_body3')\n",
    "API.create_rigid_body(engine,'top_body4')\n",
    "\n",
    "V31, T31 = create_box(36.025, 16.5, 30.)\n",
    "V32, T32 = create_box(4., 36.5, 30.)\n",
    "V33, T33 = create_box(42.2, 20.5, 3.5)\n",
    "V34, T34 = create_box(42.2, 20.5, 3.5)\n",
    "\n",
    "mesh31 = API.create_mesh(V31, T31)\n",
    "mesh32 = API.create_mesh(V32, T32)\n",
    "mesh33 = API.create_mesh(V33, T33)\n",
    "mesh34 = API.create_mesh(V34, T34)\n",
    "\n",
    "API.create_shape(engine, 'top_shape', mesh31)\n",
    "API.create_shape(engine, 'top_shape2', mesh32)\n",
    "API.create_shape(engine, 'top_shape3', mesh33)\n",
    "API.create_shape(engine, 'top_shape4', mesh34)\n",
    "\n",
    "API.connect_shape(engine, 'top_body', 'top_shape')\n",
    "API.connect_shape(engine, 'top_body2', 'top_shape2')\n",
    "API.connect_shape(engine, 'top_body3', 'top_shape3')\n",
    "API.connect_shape(engine, 'top_body4', 'top_shape4')\n",
    "\n",
    "API.set_position(engine, 'top_body', V3.make(17, 0.0,-25.3) , use_model_frame=True)\n",
    "API.set_orientation(engine, 'top_body', Q.Ry(-0.5*np.pi), use_model_frame=True)\n",
    "API.set_position(engine, 'top_body2', V3.make(17, 0.0,-45.3) , use_model_frame=True)\n",
    "API.set_orientation(engine, 'top_body2', Q.Ry(-0.5*np.pi), use_model_frame=True)\n",
    "API.set_position(engine, 'top_body3', V3.make(3.75, 0.0,-68.3) , use_model_frame=True)\n",
    "API.set_orientation(engine, 'top_body3', Q.Ry(-0.5*np.pi), use_model_frame=True)\n",
    "API.set_position(engine, 'top_body4', V3.make(30.25, 0.0,-68.3) , use_model_frame=True)\n",
    "API.set_orientation(engine, 'top_body4', Q.Ry(-0.5*np.pi), use_model_frame=True)"
   ]
  },
  {
   "cell_type": "code",
   "execution_count": 5,
   "metadata": {},
   "outputs": [],
   "source": [
    "API.create_rigid_body(engine,'base_body')\n",
    "\n",
    "V41, T41 = create_box(28.5, 19.2, 22.8)\n",
    "\n",
    "mesh41 = API.create_mesh(V41, T41)\n",
    "\n",
    "API.create_shape(engine, 'base_shape', mesh41)\n",
    "\n",
    "API.connect_shape(engine, 'base_body', 'base_shape')\n",
    "\n",
    "API.set_position(engine, 'base_body', V3.make(17, 0.0,-75.15) , use_model_frame=True)\n",
    "API.set_orientation(engine, 'base_body', Q.Ry(-0.5*np.pi), use_model_frame=True)"
   ]
  },
  {
   "cell_type": "code",
   "execution_count": 6,
   "metadata": {
    "tags": []
   },
   "outputs": [],
   "source": [
    "API.set_mass_properties(engine,'connector_body', 1)\n",
    "API.set_mass_properties(engine,'connector_body2', 1)\n",
    "API.set_mass_properties(engine,'connector_body3', 1)\n",
    "API.set_mass_properties(engine,'foot_body', 1)\n",
    "API.set_mass_properties(engine,'foot_body2', 1)\n",
    "API.set_mass_properties(engine,'foot_body3', 1)\n",
    "API.set_mass_properties(engine,'foot_body4', 1)\n",
    "API.set_mass_properties(engine,'top_body', 1)\n",
    "API.set_mass_properties(engine,'top_body2', 1)\n",
    "API.set_mass_properties(engine,'top_body3', 1)\n",
    "API.set_mass_properties(engine,'top_body4', 1)\n",
    "API.set_mass_properties(engine,'base_body', 1)\n",
    "\n",
    "connector = [\"connector_body\", \"connector_body2\", \"connector_body3\"]\n",
    "foot = [\"foot_body\", \"foot_body2\", \"foot_body3\", \"foot_body4\"]\n",
    "top = [\"top_body\", \"top_body2\", \"top_body3\", \"top_body4\"]\n",
    "base = [\"base_body\"]\n",
    "\n",
    "def spin(engine, lst, vec) -> None:\n",
    "    for elm in lst:\n",
    "        API.set_spin(engine, elm, vec)\n",
    "    \n",
    "#spin(engine, connector, V3.make(2.*np.pi, 0., 0.))"
   ]
  },
  {
   "cell_type": "code",
   "execution_count": 7,
   "metadata": {
    "tags": []
   },
   "outputs": [
    {
     "data": {
      "application/vnd.jupyter.widget-view+json": {
       "model_id": "0a40f5b885d343a299798b11d88ef239",
       "version_major": 2,
       "version_minor": 0
      },
      "text/plain": [
       "Renderer(camera=PerspectiveCamera(aspect=1.25, children=(DirectionalLight(color='white', intensity=0.6, positi…"
      ]
     },
     "metadata": {},
     "output_type": "display_data"
    }
   ],
   "source": [
    "viewer = VIEWER.Viewer()\n",
    "for body in engine.bodies.values():\n",
    "    opacity = 1.\n",
    "    if 'connector' in body.name:\n",
    "        color = V3.make(1.0,0.1,0.1)\n",
    "    if 'foot' in body.name:\n",
    "        color = V3.make(0.1,0.1,1.0)\n",
    "    if 'top' in body.name:\n",
    "        color = V3.make(0.1,1.0,0.0)\n",
    "    if 'base' in body.name:\n",
    "        color = V3.make(0.5,0.1,1.0)\n",
    "    viewer.create_mesh(body.name, body.shape.mesh.V, body.shape.mesh.T, color, opacity)\n",
    "    viewer.place_mesh(body.name, body.r, body.q)\n",
    "    \n",
    "viewer.show()"
   ]
  },
  {
   "cell_type": "code",
   "execution_count": 8,
   "metadata": {},
   "outputs": [],
   "source": [
    "def simulation(viewer, engine, monitor=True) -> None:\n",
    "    dt = engine.params.time_step\n",
    "    T  = engine.params.total_time \n",
    "    fps = 1.0/dt\n",
    "    steps = int(np.round(T*fps))\n",
    "    for i in range(steps):\n",
    "        for body in engine.bodies.values():\n",
    "            viewer.place_mesh(body.name, body.r, body.q)\n",
    "        API.simulate(engine, dt, monitor)\n",
    "engine.params.total_time = 100   \n",
    "engine.params.time_step  = 0.1\n",
    "simulation(viewer, engine, True)"
   ]
  },
  {
   "cell_type": "code",
   "execution_count": null,
   "metadata": {},
   "outputs": [],
   "source": []
  }
 ],
 "metadata": {
  "kernelspec": {
   "display_name": "Python 3 (ipykernel)",
   "language": "python",
   "name": "python3"
  },
  "language_info": {
   "codemirror_mode": {
    "name": "ipython",
    "version": 3
   },
   "file_extension": ".py",
   "mimetype": "text/x-python",
   "name": "python",
   "nbconvert_exporter": "python",
   "pygments_lexer": "ipython3",
   "version": "3.11.5"
  }
 },
 "nbformat": 4,
 "nbformat_minor": 4
}
